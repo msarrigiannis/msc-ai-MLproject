{
  "nbformat": 4,
  "nbformat_minor": 0,
  "metadata": {
    "colab": {
      "name": "Untitled1.ipynb",
      "provenance": [],
      "collapsed_sections": [
        "M3s2mk-8Qp52",
        "irvmoEv0b1FY",
        "D-74KwcmS1tO",
        "gA1f_TM60f8n",
        "TBdtR7jnar_j",
        "W-VFkk453fsI"
      ]
    },
    "kernelspec": {
      "name": "python3",
      "display_name": "Python 3"
    },
    "language_info": {
      "name": "python"
    }
  },
  "cells": [
    {
      "cell_type": "markdown",
      "source": [
        "# Machine Learning"
      ],
      "metadata": {
        "id": "rFktLM1wSvV-"
      }
    },
    {
      "cell_type": "markdown",
      "source": [
        "# Sarrigiannis Marios (mtn2116)\n",
        "\n",
        "# Resume screening project"
      ],
      "metadata": {
        "id": "YiNVFN1uQeVB"
      }
    },
    {
      "cell_type": "markdown",
      "source": [
        "## Prepare project:\n",
        "\n",
        "1. load libraries\n",
        "2. load extracted CV data (produced by ResFileToCsv.py)"
      ],
      "metadata": {
        "id": "M3s2mk-8Qp52"
      }
    },
    {
      "cell_type": "code",
      "source": [
        "#newer nltk version is required for running the scripts\n",
        "!pip uninstall nltk==3.2.5"
      ],
      "metadata": {
        "colab": {
          "base_uri": "https://localhost:8080/"
        },
        "id": "XGcZs1IRFH00",
        "outputId": "46b02f69-ec03-45d2-de65-bac4bd059f58"
      },
      "execution_count": 1,
      "outputs": [
        {
          "output_type": "stream",
          "name": "stdout",
          "text": [
            "Found existing installation: nltk 3.2.5\n",
            "Uninstalling nltk-3.2.5:\n",
            "  Would remove:\n",
            "    /usr/local/lib/python3.7/dist-packages/nltk-3.2.5.dist-info/*\n",
            "    /usr/local/lib/python3.7/dist-packages/nltk/*\n",
            "Proceed (y/n)? y\n",
            "  Successfully uninstalled nltk-3.2.5\n"
          ]
        }
      ]
    },
    {
      "cell_type": "code",
      "source": [
        "#newer nltk version is required for running the scripts\n",
        "!pip install nltk==3.6.2"
      ],
      "metadata": {
        "colab": {
          "base_uri": "https://localhost:8080/"
        },
        "id": "r4k027gJFITI",
        "outputId": "886590b4-b4e1-4631-fe09-a6ccc9f16289"
      },
      "execution_count": 2,
      "outputs": [
        {
          "output_type": "stream",
          "name": "stdout",
          "text": [
            "Collecting nltk==3.6.2\n",
            "  Downloading nltk-3.6.2-py3-none-any.whl (1.5 MB)\n",
            "\u001b[?25l\r\u001b[K     |▎                               | 10 kB 17.7 MB/s eta 0:00:01\r\u001b[K     |▌                               | 20 kB 13.7 MB/s eta 0:00:01\r\u001b[K     |▊                               | 30 kB 11.3 MB/s eta 0:00:01\r\u001b[K     |█                               | 40 kB 9.2 MB/s eta 0:00:01\r\u001b[K     |█▏                              | 51 kB 4.3 MB/s eta 0:00:01\r\u001b[K     |█▍                              | 61 kB 4.9 MB/s eta 0:00:01\r\u001b[K     |█▋                              | 71 kB 5.6 MB/s eta 0:00:01\r\u001b[K     |█▉                              | 81 kB 6.3 MB/s eta 0:00:01\r\u001b[K     |██                              | 92 kB 4.8 MB/s eta 0:00:01\r\u001b[K     |██▎                             | 102 kB 5.3 MB/s eta 0:00:01\r\u001b[K     |██▌                             | 112 kB 5.3 MB/s eta 0:00:01\r\u001b[K     |██▊                             | 122 kB 5.3 MB/s eta 0:00:01\r\u001b[K     |███                             | 133 kB 5.3 MB/s eta 0:00:01\r\u001b[K     |███▏                            | 143 kB 5.3 MB/s eta 0:00:01\r\u001b[K     |███▍                            | 153 kB 5.3 MB/s eta 0:00:01\r\u001b[K     |███▋                            | 163 kB 5.3 MB/s eta 0:00:01\r\u001b[K     |███▉                            | 174 kB 5.3 MB/s eta 0:00:01\r\u001b[K     |████                            | 184 kB 5.3 MB/s eta 0:00:01\r\u001b[K     |████▎                           | 194 kB 5.3 MB/s eta 0:00:01\r\u001b[K     |████▌                           | 204 kB 5.3 MB/s eta 0:00:01\r\u001b[K     |████▊                           | 215 kB 5.3 MB/s eta 0:00:01\r\u001b[K     |█████                           | 225 kB 5.3 MB/s eta 0:00:01\r\u001b[K     |█████▏                          | 235 kB 5.3 MB/s eta 0:00:01\r\u001b[K     |█████▍                          | 245 kB 5.3 MB/s eta 0:00:01\r\u001b[K     |█████▋                          | 256 kB 5.3 MB/s eta 0:00:01\r\u001b[K     |█████▉                          | 266 kB 5.3 MB/s eta 0:00:01\r\u001b[K     |██████                          | 276 kB 5.3 MB/s eta 0:00:01\r\u001b[K     |██████▎                         | 286 kB 5.3 MB/s eta 0:00:01\r\u001b[K     |██████▌                         | 296 kB 5.3 MB/s eta 0:00:01\r\u001b[K     |██████▊                         | 307 kB 5.3 MB/s eta 0:00:01\r\u001b[K     |███████                         | 317 kB 5.3 MB/s eta 0:00:01\r\u001b[K     |███████▏                        | 327 kB 5.3 MB/s eta 0:00:01\r\u001b[K     |███████▍                        | 337 kB 5.3 MB/s eta 0:00:01\r\u001b[K     |███████▊                        | 348 kB 5.3 MB/s eta 0:00:01\r\u001b[K     |████████                        | 358 kB 5.3 MB/s eta 0:00:01\r\u001b[K     |████████▏                       | 368 kB 5.3 MB/s eta 0:00:01\r\u001b[K     |████████▍                       | 378 kB 5.3 MB/s eta 0:00:01\r\u001b[K     |████████▋                       | 389 kB 5.3 MB/s eta 0:00:01\r\u001b[K     |████████▉                       | 399 kB 5.3 MB/s eta 0:00:01\r\u001b[K     |█████████                       | 409 kB 5.3 MB/s eta 0:00:01\r\u001b[K     |█████████▎                      | 419 kB 5.3 MB/s eta 0:00:01\r\u001b[K     |█████████▌                      | 430 kB 5.3 MB/s eta 0:00:01\r\u001b[K     |█████████▊                      | 440 kB 5.3 MB/s eta 0:00:01\r\u001b[K     |██████████                      | 450 kB 5.3 MB/s eta 0:00:01\r\u001b[K     |██████████▏                     | 460 kB 5.3 MB/s eta 0:00:01\r\u001b[K     |██████████▍                     | 471 kB 5.3 MB/s eta 0:00:01\r\u001b[K     |██████████▋                     | 481 kB 5.3 MB/s eta 0:00:01\r\u001b[K     |██████████▉                     | 491 kB 5.3 MB/s eta 0:00:01\r\u001b[K     |███████████                     | 501 kB 5.3 MB/s eta 0:00:01\r\u001b[K     |███████████▎                    | 512 kB 5.3 MB/s eta 0:00:01\r\u001b[K     |███████████▌                    | 522 kB 5.3 MB/s eta 0:00:01\r\u001b[K     |███████████▊                    | 532 kB 5.3 MB/s eta 0:00:01\r\u001b[K     |████████████                    | 542 kB 5.3 MB/s eta 0:00:01\r\u001b[K     |████████████▏                   | 552 kB 5.3 MB/s eta 0:00:01\r\u001b[K     |████████████▍                   | 563 kB 5.3 MB/s eta 0:00:01\r\u001b[K     |████████████▋                   | 573 kB 5.3 MB/s eta 0:00:01\r\u001b[K     |████████████▉                   | 583 kB 5.3 MB/s eta 0:00:01\r\u001b[K     |█████████████                   | 593 kB 5.3 MB/s eta 0:00:01\r\u001b[K     |█████████████▎                  | 604 kB 5.3 MB/s eta 0:00:01\r\u001b[K     |█████████████▌                  | 614 kB 5.3 MB/s eta 0:00:01\r\u001b[K     |█████████████▊                  | 624 kB 5.3 MB/s eta 0:00:01\r\u001b[K     |██████████████                  | 634 kB 5.3 MB/s eta 0:00:01\r\u001b[K     |██████████████▏                 | 645 kB 5.3 MB/s eta 0:00:01\r\u001b[K     |██████████████▍                 | 655 kB 5.3 MB/s eta 0:00:01\r\u001b[K     |██████████████▋                 | 665 kB 5.3 MB/s eta 0:00:01\r\u001b[K     |██████████████▉                 | 675 kB 5.3 MB/s eta 0:00:01\r\u001b[K     |███████████████▏                | 686 kB 5.3 MB/s eta 0:00:01\r\u001b[K     |███████████████▍                | 696 kB 5.3 MB/s eta 0:00:01\r\u001b[K     |███████████████▋                | 706 kB 5.3 MB/s eta 0:00:01\r\u001b[K     |███████████████▉                | 716 kB 5.3 MB/s eta 0:00:01\r\u001b[K     |████████████████                | 727 kB 5.3 MB/s eta 0:00:01\r\u001b[K     |████████████████▎               | 737 kB 5.3 MB/s eta 0:00:01\r\u001b[K     |████████████████▌               | 747 kB 5.3 MB/s eta 0:00:01\r\u001b[K     |████████████████▊               | 757 kB 5.3 MB/s eta 0:00:01\r\u001b[K     |█████████████████               | 768 kB 5.3 MB/s eta 0:00:01\r\u001b[K     |█████████████████▏              | 778 kB 5.3 MB/s eta 0:00:01\r\u001b[K     |█████████████████▍              | 788 kB 5.3 MB/s eta 0:00:01\r\u001b[K     |█████████████████▋              | 798 kB 5.3 MB/s eta 0:00:01\r\u001b[K     |█████████████████▉              | 808 kB 5.3 MB/s eta 0:00:01\r\u001b[K     |██████████████████              | 819 kB 5.3 MB/s eta 0:00:01\r\u001b[K     |██████████████████▎             | 829 kB 5.3 MB/s eta 0:00:01\r\u001b[K     |██████████████████▌             | 839 kB 5.3 MB/s eta 0:00:01\r\u001b[K     |██████████████████▊             | 849 kB 5.3 MB/s eta 0:00:01\r\u001b[K     |███████████████████             | 860 kB 5.3 MB/s eta 0:00:01\r\u001b[K     |███████████████████▏            | 870 kB 5.3 MB/s eta 0:00:01\r\u001b[K     |███████████████████▍            | 880 kB 5.3 MB/s eta 0:00:01\r\u001b[K     |███████████████████▋            | 890 kB 5.3 MB/s eta 0:00:01\r\u001b[K     |███████████████████▉            | 901 kB 5.3 MB/s eta 0:00:01\r\u001b[K     |████████████████████            | 911 kB 5.3 MB/s eta 0:00:01\r\u001b[K     |████████████████████▎           | 921 kB 5.3 MB/s eta 0:00:01\r\u001b[K     |████████████████████▌           | 931 kB 5.3 MB/s eta 0:00:01\r\u001b[K     |████████████████████▊           | 942 kB 5.3 MB/s eta 0:00:01\r\u001b[K     |█████████████████████           | 952 kB 5.3 MB/s eta 0:00:01\r\u001b[K     |█████████████████████▏          | 962 kB 5.3 MB/s eta 0:00:01\r\u001b[K     |█████████████████████▍          | 972 kB 5.3 MB/s eta 0:00:01\r\u001b[K     |█████████████████████▋          | 983 kB 5.3 MB/s eta 0:00:01\r\u001b[K     |█████████████████████▉          | 993 kB 5.3 MB/s eta 0:00:01\r\u001b[K     |██████████████████████          | 1.0 MB 5.3 MB/s eta 0:00:01\r\u001b[K     |██████████████████████▎         | 1.0 MB 5.3 MB/s eta 0:00:01\r\u001b[K     |██████████████████████▌         | 1.0 MB 5.3 MB/s eta 0:00:01\r\u001b[K     |██████████████████████▉         | 1.0 MB 5.3 MB/s eta 0:00:01\r\u001b[K     |███████████████████████         | 1.0 MB 5.3 MB/s eta 0:00:01\r\u001b[K     |███████████████████████▎        | 1.1 MB 5.3 MB/s eta 0:00:01\r\u001b[K     |███████████████████████▌        | 1.1 MB 5.3 MB/s eta 0:00:01\r\u001b[K     |███████████████████████▊        | 1.1 MB 5.3 MB/s eta 0:00:01\r\u001b[K     |████████████████████████        | 1.1 MB 5.3 MB/s eta 0:00:01\r\u001b[K     |████████████████████████▏       | 1.1 MB 5.3 MB/s eta 0:00:01\r\u001b[K     |████████████████████████▍       | 1.1 MB 5.3 MB/s eta 0:00:01\r\u001b[K     |████████████████████████▋       | 1.1 MB 5.3 MB/s eta 0:00:01\r\u001b[K     |████████████████████████▉       | 1.1 MB 5.3 MB/s eta 0:00:01\r\u001b[K     |█████████████████████████       | 1.1 MB 5.3 MB/s eta 0:00:01\r\u001b[K     |█████████████████████████▎      | 1.1 MB 5.3 MB/s eta 0:00:01\r\u001b[K     |█████████████████████████▌      | 1.2 MB 5.3 MB/s eta 0:00:01\r\u001b[K     |█████████████████████████▊      | 1.2 MB 5.3 MB/s eta 0:00:01\r\u001b[K     |██████████████████████████      | 1.2 MB 5.3 MB/s eta 0:00:01\r\u001b[K     |██████████████████████████▏     | 1.2 MB 5.3 MB/s eta 0:00:01\r\u001b[K     |██████████████████████████▍     | 1.2 MB 5.3 MB/s eta 0:00:01\r\u001b[K     |██████████████████████████▋     | 1.2 MB 5.3 MB/s eta 0:00:01\r\u001b[K     |██████████████████████████▉     | 1.2 MB 5.3 MB/s eta 0:00:01\r\u001b[K     |███████████████████████████     | 1.2 MB 5.3 MB/s eta 0:00:01\r\u001b[K     |███████████████████████████▎    | 1.2 MB 5.3 MB/s eta 0:00:01\r\u001b[K     |███████████████████████████▌    | 1.2 MB 5.3 MB/s eta 0:00:01\r\u001b[K     |███████████████████████████▊    | 1.3 MB 5.3 MB/s eta 0:00:01\r\u001b[K     |████████████████████████████    | 1.3 MB 5.3 MB/s eta 0:00:01\r\u001b[K     |████████████████████████████▏   | 1.3 MB 5.3 MB/s eta 0:00:01\r\u001b[K     |████████████████████████████▍   | 1.3 MB 5.3 MB/s eta 0:00:01\r\u001b[K     |████████████████████████████▋   | 1.3 MB 5.3 MB/s eta 0:00:01\r\u001b[K     |████████████████████████████▉   | 1.3 MB 5.3 MB/s eta 0:00:01\r\u001b[K     |█████████████████████████████   | 1.3 MB 5.3 MB/s eta 0:00:01\r\u001b[K     |█████████████████████████████▎  | 1.3 MB 5.3 MB/s eta 0:00:01\r\u001b[K     |█████████████████████████████▌  | 1.3 MB 5.3 MB/s eta 0:00:01\r\u001b[K     |█████████████████████████████▊  | 1.4 MB 5.3 MB/s eta 0:00:01\r\u001b[K     |██████████████████████████████  | 1.4 MB 5.3 MB/s eta 0:00:01\r\u001b[K     |██████████████████████████████▎ | 1.4 MB 5.3 MB/s eta 0:00:01\r\u001b[K     |██████████████████████████████▌ | 1.4 MB 5.3 MB/s eta 0:00:01\r\u001b[K     |██████████████████████████████▊ | 1.4 MB 5.3 MB/s eta 0:00:01\r\u001b[K     |███████████████████████████████ | 1.4 MB 5.3 MB/s eta 0:00:01\r\u001b[K     |███████████████████████████████▏| 1.4 MB 5.3 MB/s eta 0:00:01\r\u001b[K     |███████████████████████████████▍| 1.4 MB 5.3 MB/s eta 0:00:01\r\u001b[K     |███████████████████████████████▋| 1.4 MB 5.3 MB/s eta 0:00:01\r\u001b[K     |███████████████████████████████▉| 1.4 MB 5.3 MB/s eta 0:00:01\r\u001b[K     |████████████████████████████████| 1.5 MB 5.3 MB/s \n",
            "\u001b[?25hRequirement already satisfied: click in /usr/local/lib/python3.7/dist-packages (from nltk==3.6.2) (7.1.2)\n",
            "Requirement already satisfied: regex in /usr/local/lib/python3.7/dist-packages (from nltk==3.6.2) (2019.12.20)\n",
            "Requirement already satisfied: joblib in /usr/local/lib/python3.7/dist-packages (from nltk==3.6.2) (1.1.0)\n",
            "Requirement already satisfied: tqdm in /usr/local/lib/python3.7/dist-packages (from nltk==3.6.2) (4.62.3)\n",
            "Installing collected packages: nltk\n",
            "Successfully installed nltk-3.6.2\n"
          ]
        }
      ]
    },
    {
      "cell_type": "code",
      "execution_count": 3,
      "metadata": {
        "colab": {
          "base_uri": "https://localhost:8080/"
        },
        "id": "wCa65W5BPPoF",
        "outputId": "63b0631a-df0c-499c-d715-d2cf94fd498e"
      },
      "outputs": [
        {
          "output_type": "stream",
          "name": "stderr",
          "text": [
            "[nltk_data] Downloading package stopwords to /root/nltk_data...\n",
            "[nltk_data]   Unzipping corpora/stopwords.zip.\n",
            "[nltk_data] Downloading package punkt to /root/nltk_data...\n",
            "[nltk_data]   Unzipping tokenizers/punkt.zip.\n"
          ]
        }
      ],
      "source": [
        "import pandas as pd\n",
        "import numpy as np\n",
        "import re\n",
        "import nltk\n",
        "import itertools\n",
        "from nltk.corpus import stopwords\n",
        "nltk.download('stopwords')\n",
        "nltk.download('punkt')\n",
        "from sklearn.linear_model import LogisticRegression\n",
        "from sklearn.tree import DecisionTreeClassifier\n",
        "from sklearn.neighbors import KNeighborsClassifier\n",
        "from sklearn.discriminant_analysis import LinearDiscriminantAnalysis\n",
        "from sklearn.naive_bayes import GaussianNB\n",
        "from sklearn.svm import SVC\n",
        "from sklearn.model_selection import KFold\n",
        "from sklearn.model_selection import cross_val_score\n",
        "from sklearn.ensemble import BaggingClassifier\n",
        "from sklearn.ensemble import VotingClassifier\n",
        "from sklearn.ensemble import AdaBoostClassifier\n",
        "from sklearn.ensemble import RandomForestClassifier\n",
        "from sklearn.preprocessing import MinMaxScaler\n",
        "from xgboost import XGBClassifier\n",
        "from sklearn.model_selection import GridSearchCV\n",
        "from sklearn import metrics\n",
        "from sklearn.model_selection import RandomizedSearchCV\n",
        "from time import time\n",
        "from matplotlib import pyplot as plt\n",
        "from sklearn.metrics import make_scorer,precision_score,f1_score,recall_score\n",
        "from imblearn.over_sampling import SMOTE\n",
        "import seaborn as sns"
      ]
    },
    {
      "cell_type": "code",
      "source": [
        "from google.colab import drive\n",
        "drive.mount('/content/drive/')"
      ],
      "metadata": {
        "colab": {
          "base_uri": "https://localhost:8080/"
        },
        "id": "9XlvYETtPYr2",
        "outputId": "6f63ea46-7f0e-4fc2-cd98-29d5daaf9ed8"
      },
      "execution_count": 4,
      "outputs": [
        {
          "output_type": "stream",
          "name": "stdout",
          "text": [
            "Mounted at /content/drive/\n"
          ]
        }
      ]
    },
    {
      "cell_type": "code",
      "source": [
        "df = pd.read_csv('/content/drive/My Drive/MSC/ML/train_data.csv')\n",
        "\n",
        "df.info()"
      ],
      "metadata": {
        "colab": {
          "base_uri": "https://localhost:8080/"
        },
        "id": "zZGf86xKPues",
        "outputId": "03b416f0-9be1-4c51-e260-c6dfa260d49d"
      },
      "execution_count": 5,
      "outputs": [
        {
          "output_type": "stream",
          "name": "stdout",
          "text": [
            "<class 'pandas.core.frame.DataFrame'>\n",
            "RangeIndex: 326 entries, 0 to 325\n",
            "Data columns (total 2 columns):\n",
            " #   Column  Non-Null Count  Dtype \n",
            "---  ------  --------------  ----- \n",
            " 0   text    317 non-null    object\n",
            " 1   label   326 non-null    object\n",
            "dtypes: object(2)\n",
            "memory usage: 5.2+ KB\n"
          ]
        }
      ]
    },
    {
      "cell_type": "markdown",
      "source": [
        "## Data exploration"
      ],
      "metadata": {
        "id": "irvmoEv0b1FY"
      }
    },
    {
      "cell_type": "markdown",
      "source": [
        "We set out to explore our data and check potential class imbalance. \n",
        "\n",
        "We observe (as expected) that Bad candidates are way more than Maybe or Good candidates. At first, since this is intended to be a screening system, we tried merging Maybe and Good classes, but that did not lead to better results so we will not explore that option."
      ],
      "metadata": {
        "id": "UUGHRS5EFFTp"
      }
    },
    {
      "cell_type": "code",
      "source": [
        "df.head()"
      ],
      "metadata": {
        "colab": {
          "base_uri": "https://localhost:8080/",
          "height": 206
        },
        "id": "tHFzxW36b3-A",
        "outputId": "84b485e5-1dd0-411f-99c3-47c24b7d216c"
      },
      "execution_count": 6,
      "outputs": [
        {
          "output_type": "execute_result",
          "data": {
            "text/html": [
              "\n",
              "  <div id=\"df-4f4eb7a1-67a1-428e-81ed-dac5b9102d65\">\n",
              "    <div class=\"colab-df-container\">\n",
              "      <div>\n",
              "<style scoped>\n",
              "    .dataframe tbody tr th:only-of-type {\n",
              "        vertical-align: middle;\n",
              "    }\n",
              "\n",
              "    .dataframe tbody tr th {\n",
              "        vertical-align: top;\n",
              "    }\n",
              "\n",
              "    .dataframe thead th {\n",
              "        text-align: right;\n",
              "    }\n",
              "</style>\n",
              "<table border=\"1\" class=\"dataframe\">\n",
              "  <thead>\n",
              "    <tr style=\"text-align: right;\">\n",
              "      <th></th>\n",
              "      <th>text</th>\n",
              "      <th>label</th>\n",
              "    </tr>\n",
              "  </thead>\n",
              "  <tbody>\n",
              "    <tr>\n",
              "      <th>0</th>\n",
              "      <td>POOJA KUDALE E-Mail: poojakudale821@gmail.com ...</td>\n",
              "      <td>Bad</td>\n",
              "    </tr>\n",
              "    <tr>\n",
              "      <th>1</th>\n",
              "      <td>ATHIRA P JUNIOR SOFTWARE ENGINEER E-MAIL : ath...</td>\n",
              "      <td>Bad</td>\n",
              "    </tr>\n",
              "    <tr>\n",
              "      <th>2</th>\n",
              "      <td>Aabid Jamil EDUCATION Bachelors Chandigarh Eng...</td>\n",
              "      <td>Bad</td>\n",
              "    </tr>\n",
              "    <tr>\n",
              "      <th>3</th>\n",
              "      <td>Aakash Khurange Jr. About Me My name is Aakash...</td>\n",
              "      <td>Bad</td>\n",
              "    </tr>\n",
              "    <tr>\n",
              "      <th>4</th>\n",
              "      <td>ABHISHEK KUMAR MISHRA B.Tech (Computer Science...</td>\n",
              "      <td>Bad</td>\n",
              "    </tr>\n",
              "  </tbody>\n",
              "</table>\n",
              "</div>\n",
              "      <button class=\"colab-df-convert\" onclick=\"convertToInteractive('df-4f4eb7a1-67a1-428e-81ed-dac5b9102d65')\"\n",
              "              title=\"Convert this dataframe to an interactive table.\"\n",
              "              style=\"display:none;\">\n",
              "        \n",
              "  <svg xmlns=\"http://www.w3.org/2000/svg\" height=\"24px\"viewBox=\"0 0 24 24\"\n",
              "       width=\"24px\">\n",
              "    <path d=\"M0 0h24v24H0V0z\" fill=\"none\"/>\n",
              "    <path d=\"M18.56 5.44l.94 2.06.94-2.06 2.06-.94-2.06-.94-.94-2.06-.94 2.06-2.06.94zm-11 1L8.5 8.5l.94-2.06 2.06-.94-2.06-.94L8.5 2.5l-.94 2.06-2.06.94zm10 10l.94 2.06.94-2.06 2.06-.94-2.06-.94-.94-2.06-.94 2.06-2.06.94z\"/><path d=\"M17.41 7.96l-1.37-1.37c-.4-.4-.92-.59-1.43-.59-.52 0-1.04.2-1.43.59L10.3 9.45l-7.72 7.72c-.78.78-.78 2.05 0 2.83L4 21.41c.39.39.9.59 1.41.59.51 0 1.02-.2 1.41-.59l7.78-7.78 2.81-2.81c.8-.78.8-2.07 0-2.86zM5.41 20L4 18.59l7.72-7.72 1.47 1.35L5.41 20z\"/>\n",
              "  </svg>\n",
              "      </button>\n",
              "      \n",
              "  <style>\n",
              "    .colab-df-container {\n",
              "      display:flex;\n",
              "      flex-wrap:wrap;\n",
              "      gap: 12px;\n",
              "    }\n",
              "\n",
              "    .colab-df-convert {\n",
              "      background-color: #E8F0FE;\n",
              "      border: none;\n",
              "      border-radius: 50%;\n",
              "      cursor: pointer;\n",
              "      display: none;\n",
              "      fill: #1967D2;\n",
              "      height: 32px;\n",
              "      padding: 0 0 0 0;\n",
              "      width: 32px;\n",
              "    }\n",
              "\n",
              "    .colab-df-convert:hover {\n",
              "      background-color: #E2EBFA;\n",
              "      box-shadow: 0px 1px 2px rgba(60, 64, 67, 0.3), 0px 1px 3px 1px rgba(60, 64, 67, 0.15);\n",
              "      fill: #174EA6;\n",
              "    }\n",
              "\n",
              "    [theme=dark] .colab-df-convert {\n",
              "      background-color: #3B4455;\n",
              "      fill: #D2E3FC;\n",
              "    }\n",
              "\n",
              "    [theme=dark] .colab-df-convert:hover {\n",
              "      background-color: #434B5C;\n",
              "      box-shadow: 0px 1px 3px 1px rgba(0, 0, 0, 0.15);\n",
              "      filter: drop-shadow(0px 1px 2px rgba(0, 0, 0, 0.3));\n",
              "      fill: #FFFFFF;\n",
              "    }\n",
              "  </style>\n",
              "\n",
              "      <script>\n",
              "        const buttonEl =\n",
              "          document.querySelector('#df-4f4eb7a1-67a1-428e-81ed-dac5b9102d65 button.colab-df-convert');\n",
              "        buttonEl.style.display =\n",
              "          google.colab.kernel.accessAllowed ? 'block' : 'none';\n",
              "\n",
              "        async function convertToInteractive(key) {\n",
              "          const element = document.querySelector('#df-4f4eb7a1-67a1-428e-81ed-dac5b9102d65');\n",
              "          const dataTable =\n",
              "            await google.colab.kernel.invokeFunction('convertToInteractive',\n",
              "                                                     [key], {});\n",
              "          if (!dataTable) return;\n",
              "\n",
              "          const docLinkHtml = 'Like what you see? Visit the ' +\n",
              "            '<a target=\"_blank\" href=https://colab.research.google.com/notebooks/data_table.ipynb>data table notebook</a>'\n",
              "            + ' to learn more about interactive tables.';\n",
              "          element.innerHTML = '';\n",
              "          dataTable['output_type'] = 'display_data';\n",
              "          await google.colab.output.renderOutput(dataTable, element);\n",
              "          const docLink = document.createElement('div');\n",
              "          docLink.innerHTML = docLinkHtml;\n",
              "          element.appendChild(docLink);\n",
              "        }\n",
              "      </script>\n",
              "    </div>\n",
              "  </div>\n",
              "  "
            ],
            "text/plain": [
              "                                                text label\n",
              "0  POOJA KUDALE E-Mail: poojakudale821@gmail.com ...   Bad\n",
              "1  ATHIRA P JUNIOR SOFTWARE ENGINEER E-MAIL : ath...   Bad\n",
              "2  Aabid Jamil EDUCATION Bachelors Chandigarh Eng...   Bad\n",
              "3  Aakash Khurange Jr. About Me My name is Aakash...   Bad\n",
              "4  ABHISHEK KUMAR MISHRA B.Tech (Computer Science...   Bad"
            ]
          },
          "metadata": {},
          "execution_count": 6
        }
      ]
    },
    {
      "cell_type": "code",
      "source": [
        "# Create pie chart visualization\n",
        "pie = plt.figure(figsize=(10,10))\n",
        "plt.pie(df.groupby('label').size(), labels=df.label.unique(), autopct='%1.0f%%',shadow=True,startangle=90)\n",
        "plt.title('Sample Class distribution')\n",
        "plt.axis('equal')\n",
        "plt.show()"
      ],
      "metadata": {
        "colab": {
          "base_uri": "https://localhost:8080/",
          "height": 591
        },
        "id": "f53MCMUucdKG",
        "outputId": "06849ceb-4896-4598-ed8c-7a101d9024c4"
      },
      "execution_count": 7,
      "outputs": [
        {
          "output_type": "display_data",
          "data": {
            "image/png": "[encoded data removed]",
            "text/plain": [
              "<Figure size 720x720 with 1 Axes>"
            ]
          },
          "metadata": {}
        }
      ]
    },
    {
      "cell_type": "markdown",
      "source": [
        "## Preprocessing:\n",
        "\n",
        "1. drop null columns\n",
        "2. make text lowercase\n",
        "3. remove URLs\n",
        "4. remove RT and cc\n",
        "5. remove emails\n",
        "6. remove punctuation"
      ],
      "metadata": {
        "id": "D-74KwcmS1tO"
      }
    },
    {
      "cell_type": "code",
      "source": [
        "df.dropna()"
      ],
      "metadata": {
        "colab": {
          "base_uri": "https://localhost:8080/",
          "height": 424
        },
        "id": "L2c2bGAXwsut",
        "outputId": "5f149052-8ab2-4fc1-cdcc-06325c131a59"
      },
      "execution_count": 8,
      "outputs": [
        {
          "output_type": "execute_result",
          "data": {
            "text/html": [
              "\n",
              "  <div id=\"df-7a3003c1-46ef-4d0b-8b0e-a379c54a180f\">\n",
              "    <div class=\"colab-df-container\">\n",
              "      <div>\n",
              "<style scoped>\n",
              "    .dataframe tbody tr th:only-of-type {\n",
              "        vertical-align: middle;\n",
              "    }\n",
              "\n",
              "    .dataframe tbody tr th {\n",
              "        vertical-align: top;\n",
              "    }\n",
              "\n",
              "    .dataframe thead th {\n",
              "        text-align: right;\n",
              "    }\n",
              "</style>\n",
              "<table border=\"1\" class=\"dataframe\">\n",
              "  <thead>\n",
              "    <tr style=\"text-align: right;\">\n",
              "      <th></th>\n",
              "      <th>text</th>\n",
              "      <th>label</th>\n",
              "    </tr>\n",
              "  </thead>\n",
              "  <tbody>\n",
              "    <tr>\n",
              "      <th>0</th>\n",
              "      <td>POOJA KUDALE E-Mail: poojakudale821@gmail.com ...</td>\n",
              "      <td>Bad</td>\n",
              "    </tr>\n",
              "    <tr>\n",
              "      <th>1</th>\n",
              "      <td>ATHIRA P JUNIOR SOFTWARE ENGINEER E-MAIL : ath...</td>\n",
              "      <td>Bad</td>\n",
              "    </tr>\n",
              "    <tr>\n",
              "      <th>2</th>\n",
              "      <td>Aabid Jamil EDUCATION Bachelors Chandigarh Eng...</td>\n",
              "      <td>Bad</td>\n",
              "    </tr>\n",
              "    <tr>\n",
              "      <th>3</th>\n",
              "      <td>Aakash Khurange Jr. About Me My name is Aakash...</td>\n",
              "      <td>Bad</td>\n",
              "    </tr>\n",
              "    <tr>\n",
              "      <th>4</th>\n",
              "      <td>ABHISHEK KUMAR MISHRA B.Tech (Computer Science...</td>\n",
              "      <td>Bad</td>\n",
              "    </tr>\n",
              "    <tr>\n",
              "      <th>...</th>\n",
              "      <td>...</td>\n",
              "      <td>...</td>\n",
              "    </tr>\n",
              "    <tr>\n",
              "      <th>321</th>\n",
              "      <td>Amit Kundu Student How to reach me: Cell: 9734...</td>\n",
              "      <td>Maybe</td>\n",
              "    </tr>\n",
              "    <tr>\n",
              "      <th>322</th>\n",
              "      <td>Veeresh Surya C Junior software Engineer phone...</td>\n",
              "      <td>Maybe</td>\n",
              "    </tr>\n",
              "    <tr>\n",
              "      <th>323</th>\n",
              "      <td>Vignesh N Looking for a challenging role in a ...</td>\n",
              "      <td>Maybe</td>\n",
              "    </tr>\n",
              "    <tr>\n",
              "      <th>324</th>\n",
              "      <td>Vikas Yadav Software Engineer A Computer Scien...</td>\n",
              "      <td>Maybe</td>\n",
              "    </tr>\n",
              "    <tr>\n",
              "      <th>325</th>\n",
              "      <td>Om SARAVANA BAWA SOMARA YESHWANTH 4-1200/A, ga...</td>\n",
              "      <td>Maybe</td>\n",
              "    </tr>\n",
              "  </tbody>\n",
              "</table>\n",
              "<p>317 rows × 2 columns</p>\n",
              "</div>\n",
              "      <button class=\"colab-df-convert\" onclick=\"convertToInteractive('df-7a3003c1-46ef-4d0b-8b0e-a379c54a180f')\"\n",
              "              title=\"Convert this dataframe to an interactive table.\"\n",
              "              style=\"display:none;\">\n",
              "        \n",
              "  <svg xmlns=\"http://www.w3.org/2000/svg\" height=\"24px\"viewBox=\"0 0 24 24\"\n",
              "       width=\"24px\">\n",
              "    <path d=\"M0 0h24v24H0V0z\" fill=\"none\"/>\n",
              "    <path d=\"M18.56 5.44l.94 2.06.94-2.06 2.06-.94-2.06-.94-.94-2.06-.94 2.06-2.06.94zm-11 1L8.5 8.5l.94-2.06 2.06-.94-2.06-.94L8.5 2.5l-.94 2.06-2.06.94zm10 10l.94 2.06.94-2.06 2.06-.94-2.06-.94-.94-2.06-.94 2.06-2.06.94z\"/><path d=\"M17.41 7.96l-1.37-1.37c-.4-.4-.92-.59-1.43-.59-.52 0-1.04.2-1.43.59L10.3 9.45l-7.72 7.72c-.78.78-.78 2.05 0 2.83L4 21.41c.39.39.9.59 1.41.59.51 0 1.02-.2 1.41-.59l7.78-7.78 2.81-2.81c.8-.78.8-2.07 0-2.86zM5.41 20L4 18.59l7.72-7.72 1.47 1.35L5.41 20z\"/>\n",
              "  </svg>\n",
              "      </button>\n",
              "      \n",
              "  <style>\n",
              "    .colab-df-container {\n",
              "      display:flex;\n",
              "      flex-wrap:wrap;\n",
              "      gap: 12px;\n",
              "    }\n",
              "\n",
              "    .colab-df-convert {\n",
              "      background-color: #E8F0FE;\n",
              "      border: none;\n",
              "      border-radius: 50%;\n",
              "      cursor: pointer;\n",
              "      display: none;\n",
              "      fill: #1967D2;\n",
              "      height: 32px;\n",
              "      padding: 0 0 0 0;\n",
              "      width: 32px;\n",
              "    }\n",
              "\n",
              "    .colab-df-convert:hover {\n",
              "      background-color: #E2EBFA;\n",
              "      box-shadow: 0px 1px 2px rgba(60, 64, 67, 0.3), 0px 1px 3px 1px rgba(60, 64, 67, 0.15);\n",
              "      fill: #174EA6;\n",
              "    }\n",
              "\n",
              "    [theme=dark] .colab-df-convert {\n",
              "      background-color: #3B4455;\n",
              "      fill: #D2E3FC;\n",
              "    }\n",
              "\n",
              "    [theme=dark] .colab-df-convert:hover {\n",
              "      background-color: #434B5C;\n",
              "      box-shadow: 0px 1px 3px 1px rgba(0, 0, 0, 0.15);\n",
              "      filter: drop-shadow(0px 1px 2px rgba(0, 0, 0, 0.3));\n",
              "      fill: #FFFFFF;\n",
              "    }\n",
              "  </style>\n",
              "\n",
              "      <script>\n",
              "        const buttonEl =\n",
              "          document.querySelector('#df-7a3003c1-46ef-4d0b-8b0e-a379c54a180f button.colab-df-convert');\n",
              "        buttonEl.style.display =\n",
              "          google.colab.kernel.accessAllowed ? 'block' : 'none';\n",
              "\n",
              "        async function convertToInteractive(key) {\n",
              "          const element = document.querySelector('#df-7a3003c1-46ef-4d0b-8b0e-a379c54a180f');\n",
              "          const dataTable =\n",
              "            await google.colab.kernel.invokeFunction('convertToInteractive',\n",
              "                                                     [key], {});\n",
              "          if (!dataTable) return;\n",
              "\n",
              "          const docLinkHtml = 'Like what you see? Visit the ' +\n",
              "            '<a target=\"_blank\" href=https://colab.research.google.com/notebooks/data_table.ipynb>data table notebook</a>'\n",
              "            + ' to learn more about interactive tables.';\n",
              "          element.innerHTML = '';\n",
              "          dataTable['output_type'] = 'display_data';\n",
              "          await google.colab.output.renderOutput(dataTable, element);\n",
              "          const docLink = document.createElement('div');\n",
              "          docLink.innerHTML = docLinkHtml;\n",
              "          element.appendChild(docLink);\n",
              "        }\n",
              "      </script>\n",
              "    </div>\n",
              "  </div>\n",
              "  "
            ],
            "text/plain": [
              "                                                  text  label\n",
              "0    POOJA KUDALE E-Mail: poojakudale821@gmail.com ...    Bad\n",
              "1    ATHIRA P JUNIOR SOFTWARE ENGINEER E-MAIL : ath...    Bad\n",
              "2    Aabid Jamil EDUCATION Bachelors Chandigarh Eng...    Bad\n",
              "3    Aakash Khurange Jr. About Me My name is Aakash...    Bad\n",
              "4    ABHISHEK KUMAR MISHRA B.Tech (Computer Science...    Bad\n",
              "..                                                 ...    ...\n",
              "321  Amit Kundu Student How to reach me: Cell: 9734...  Maybe\n",
              "322  Veeresh Surya C Junior software Engineer phone...  Maybe\n",
              "323  Vignesh N Looking for a challenging role in a ...  Maybe\n",
              "324  Vikas Yadav Software Engineer A Computer Scien...  Maybe\n",
              "325  Om SARAVANA BAWA SOMARA YESHWANTH 4-1200/A, ga...  Maybe\n",
              "\n",
              "[317 rows x 2 columns]"
            ]
          },
          "metadata": {},
          "execution_count": 8
        }
      ]
    },
    {
      "cell_type": "code",
      "source": [
        "def processText(text):\n",
        "    text = re.sub('http\\S+\\s*', ' ', text)  # remove URLs\n",
        "    text = re.sub('RT|cc', ' ', text)  # remove RT and cc\n",
        "    text = re.sub('\\S*@\\S*\\s?', '  ', text)  # remove emails\n",
        "    text = re.sub('[%s]' % re.escape(\"\"\"!\"$%'()*,/:;<=>?@[\\]^_`{|}~\"\"\"), ' ', text)  # remove punctuations\n",
        "    text = re.sub('\\s+', ' ', text)  # remove extra whitespace\n",
        "    return text.lower() #lower case"
      ],
      "metadata": {
        "id": "D6t1tEpYWdEs"
      },
      "execution_count": 9,
      "outputs": []
    },
    {
      "cell_type": "code",
      "source": [
        "df['text'] = df.text.apply(lambda x: processText(str(x)))"
      ],
      "metadata": {
        "id": "dpaanRTLppSX"
      },
      "execution_count": 10,
      "outputs": []
    },
    {
      "cell_type": "code",
      "source": [
        "df.head()"
      ],
      "metadata": {
        "colab": {
          "base_uri": "https://localhost:8080/",
          "height": 206
        },
        "id": "UxD-bo1CxU7i",
        "outputId": "2889c785-ed49-4a08-e7c8-09da2f8f256d"
      },
      "execution_count": 11,
      "outputs": [
        {
          "output_type": "execute_result",
          "data": {
            "text/html": [
              "\n",
              "  <div id=\"df-834f8c2f-3342-4d2f-b870-337362569576\">\n",
              "    <div class=\"colab-df-container\">\n",
              "      <div>\n",
              "<style scoped>\n",
              "    .dataframe tbody tr th:only-of-type {\n",
              "        vertical-align: middle;\n",
              "    }\n",
              "\n",
              "    .dataframe tbody tr th {\n",
              "        vertical-align: top;\n",
              "    }\n",
              "\n",
              "    .dataframe thead th {\n",
              "        text-align: right;\n",
              "    }\n",
              "</style>\n",
              "<table border=\"1\" class=\"dataframe\">\n",
              "  <thead>\n",
              "    <tr style=\"text-align: right;\">\n",
              "      <th></th>\n",
              "      <th>text</th>\n",
              "      <th>label</th>\n",
              "    </tr>\n",
              "  </thead>\n",
              "  <tbody>\n",
              "    <tr>\n",
              "      <th>0</th>\n",
              "      <td>pooja kudale e-mail mobile +91-9036714938 to s...</td>\n",
              "      <td>Bad</td>\n",
              "    </tr>\n",
              "    <tr>\n",
              "      <th>1</th>\n",
              "      <td>athira p junior software engineer e-mail phone...</td>\n",
              "      <td>Bad</td>\n",
              "    </tr>\n",
              "    <tr>\n",
              "      <th>2</th>\n",
              "      <td>aabid jamil education bachelors chandigarh eng...</td>\n",
              "      <td>Bad</td>\n",
              "    </tr>\n",
              "    <tr>\n",
              "      <th>3</th>\n",
              "      <td>aakash khurange jr. about me my name is aakash...</td>\n",
              "      <td>Bad</td>\n",
              "    </tr>\n",
              "    <tr>\n",
              "      <th>4</th>\n",
              "      <td>abhishek kumar mishra b.tech computer science ...</td>\n",
              "      <td>Bad</td>\n",
              "    </tr>\n",
              "  </tbody>\n",
              "</table>\n",
              "</div>\n",
              "      <button class=\"colab-df-convert\" onclick=\"convertToInteractive('df-834f8c2f-3342-4d2f-b870-337362569576')\"\n",
              "              title=\"Convert this dataframe to an interactive table.\"\n",
              "              style=\"display:none;\">\n",
              "        \n",
              "  <svg xmlns=\"http://www.w3.org/2000/svg\" height=\"24px\"viewBox=\"0 0 24 24\"\n",
              "       width=\"24px\">\n",
              "    <path d=\"M0 0h24v24H0V0z\" fill=\"none\"/>\n",
              "    <path d=\"M18.56 5.44l.94 2.06.94-2.06 2.06-.94-2.06-.94-.94-2.06-.94 2.06-2.06.94zm-11 1L8.5 8.5l.94-2.06 2.06-.94-2.06-.94L8.5 2.5l-.94 2.06-2.06.94zm10 10l.94 2.06.94-2.06 2.06-.94-2.06-.94-.94-2.06-.94 2.06-2.06.94z\"/><path d=\"M17.41 7.96l-1.37-1.37c-.4-.4-.92-.59-1.43-.59-.52 0-1.04.2-1.43.59L10.3 9.45l-7.72 7.72c-.78.78-.78 2.05 0 2.83L4 21.41c.39.39.9.59 1.41.59.51 0 1.02-.2 1.41-.59l7.78-7.78 2.81-2.81c.8-.78.8-2.07 0-2.86zM5.41 20L4 18.59l7.72-7.72 1.47 1.35L5.41 20z\"/>\n",
              "  </svg>\n",
              "      </button>\n",
              "      \n",
              "  <style>\n",
              "    .colab-df-container {\n",
              "      display:flex;\n",
              "      flex-wrap:wrap;\n",
              "      gap: 12px;\n",
              "    }\n",
              "\n",
              "    .colab-df-convert {\n",
              "      background-color: #E8F0FE;\n",
              "      border: none;\n",
              "      border-radius: 50%;\n",
              "      cursor: pointer;\n",
              "      display: none;\n",
              "      fill: #1967D2;\n",
              "      height: 32px;\n",
              "      padding: 0 0 0 0;\n",
              "      width: 32px;\n",
              "    }\n",
              "\n",
              "    .colab-df-convert:hover {\n",
              "      background-color: #E2EBFA;\n",
              "      box-shadow: 0px 1px 2px rgba(60, 64, 67, 0.3), 0px 1px 3px 1px rgba(60, 64, 67, 0.15);\n",
              "      fill: #174EA6;\n",
              "    }\n",
              "\n",
              "    [theme=dark] .colab-df-convert {\n",
              "      background-color: #3B4455;\n",
              "      fill: #D2E3FC;\n",
              "    }\n",
              "\n",
              "    [theme=dark] .colab-df-convert:hover {\n",
              "      background-color: #434B5C;\n",
              "      box-shadow: 0px 1px 3px 1px rgba(0, 0, 0, 0.15);\n",
              "      filter: drop-shadow(0px 1px 2px rgba(0, 0, 0, 0.3));\n",
              "      fill: #FFFFFF;\n",
              "    }\n",
              "  </style>\n",
              "\n",
              "      <script>\n",
              "        const buttonEl =\n",
              "          document.querySelector('#df-834f8c2f-3342-4d2f-b870-337362569576 button.colab-df-convert');\n",
              "        buttonEl.style.display =\n",
              "          google.colab.kernel.accessAllowed ? 'block' : 'none';\n",
              "\n",
              "        async function convertToInteractive(key) {\n",
              "          const element = document.querySelector('#df-834f8c2f-3342-4d2f-b870-337362569576');\n",
              "          const dataTable =\n",
              "            await google.colab.kernel.invokeFunction('convertToInteractive',\n",
              "                                                     [key], {});\n",
              "          if (!dataTable) return;\n",
              "\n",
              "          const docLinkHtml = 'Like what you see? Visit the ' +\n",
              "            '<a target=\"_blank\" href=https://colab.research.google.com/notebooks/data_table.ipynb>data table notebook</a>'\n",
              "            + ' to learn more about interactive tables.';\n",
              "          element.innerHTML = '';\n",
              "          dataTable['output_type'] = 'display_data';\n",
              "          await google.colab.output.renderOutput(dataTable, element);\n",
              "          const docLink = document.createElement('div');\n",
              "          docLink.innerHTML = docLinkHtml;\n",
              "          element.appendChild(docLink);\n",
              "        }\n",
              "      </script>\n",
              "    </div>\n",
              "  </div>\n",
              "  "
            ],
            "text/plain": [
              "                                                text label\n",
              "0  pooja kudale e-mail mobile +91-9036714938 to s...   Bad\n",
              "1  athira p junior software engineer e-mail phone...   Bad\n",
              "2  aabid jamil education bachelors chandigarh eng...   Bad\n",
              "3  aakash khurange jr. about me my name is aakash...   Bad\n",
              "4  abhishek kumar mishra b.tech computer science ...   Bad"
            ]
          },
          "metadata": {},
          "execution_count": 11
        }
      ]
    },
    {
      "cell_type": "markdown",
      "source": [
        "## Feature extraction\n",
        "\n",
        "In order select which features will help in our problem, we consulted with recruiters who tell us that in the screening step of a hiring process the candidate is considered based on:\n",
        "\n",
        "1. Their skills matching what is required for the role\n",
        "2. Their education level being the highest\n",
        "3. Whether or not they have studied in some exceptional universities\n",
        "4. Whether or not they have worked in some exceptional companies\n",
        "\n",
        "Based on that, we extracted our features."
      ],
      "metadata": {
        "id": "gA1f_TM60f8n"
      }
    },
    {
      "cell_type": "markdown",
      "source": [
        "First, some info is provided, specifically:\n",
        "\n",
        "1. List of required skills\n",
        "2. List of exceptional universities\n",
        "3. List of exceptional companies\n",
        "\n",
        "and candidates are scored accordingly, producing 3 features:\n",
        "\n",
        "1. Skills score\n",
        "2. Universities score\n",
        "3. Companies score"
      ],
      "metadata": {
        "id": "G_RcgexW_X7P"
      }
    },
    {
      "cell_type": "markdown",
      "source": [
        "As our last feature, we extract the candidates education level which may be:\n",
        "\n",
        "* None \n",
        "* High School\n",
        "* Bachelor's Degree\n",
        "* Master's Degree\n",
        "* Phd\n",
        "\n"
      ],
      "metadata": {
        "id": "ToNz8ss5aQg4"
      }
    },
    {
      "cell_type": "markdown",
      "source": [
        "After features are extracted, data is scaled using minmax scaler and in order to help overcome class imbalance, additional samples were generated using SMOTE"
      ],
      "metadata": {
        "id": "FtFL6M3yjFwV"
      }
    },
    {
      "cell_type": "code",
      "source": [
        "#load skills and companies list\n",
        "SKILLS = list(filter(None, open('/content/drive/My Drive/MSC/ML/skills.txt').read().lower().split('\\n')))\n",
        "COMPANIES = list(filter(None, open('/content/drive/My Drive/MSC/ML/companies.txt').read().lower().split('\\n')))"
      ],
      "metadata": {
        "id": "3kgGlyVXAmoU"
      },
      "execution_count": 12,
      "outputs": []
    },
    {
      "cell_type": "code",
      "source": [
        "#universities might have first the city and then the name or vice versa\n",
        "unis = filter(None, open('/content/drive/My Drive/MSC/ML/universities.txt').read().lower().split('\\n'))\n",
        "UNIVERSITIES = []\n",
        "for uni in unis:\n",
        "  for permutation in list(itertools.permutations(uni.split(','))):\n",
        "    UNIVERSITIES.append(re.sub('\\s+', ' ', ' '.join(permutation).strip()))"
      ],
      "metadata": {
        "id": "aUDTQwW_ElR0"
      },
      "execution_count": 13,
      "outputs": []
    },
    {
      "cell_type": "code",
      "source": [
        "#list of all degrees encoded 0 = high school, 1 = bachelors, 2 = masters, 3= phd\n",
        "EDUCATION = {\n",
        "    'ssc': 0, \n",
        "    'hsc': 0, \n",
        "    'cbse': 0, \n",
        "    'icse': 0, \n",
        "    'xii': 0,\n",
        "    'be' : 1,\n",
        "    'b.e.': 1,\n",
        "    'b.e': 1, \n",
        "    'bs': 1, \n",
        "    'b.s': 1, \n",
        "    'btech': 1, \n",
        "    'b.tech': 1,\n",
        "    'me': 2, \n",
        "    'm.e': 2, \n",
        "    'm.e.': 2, \n",
        "    'ms': 2, \n",
        "    'm.s': 2, \n",
        "    'm.tech': 2, \n",
        "    'mtech': 2,\n",
        "    'phd': 3\n",
        "}"
      ],
      "metadata": {
        "id": "mrDig6PZI0JJ"
      },
      "execution_count": 14,
      "outputs": []
    },
    {
      "cell_type": "code",
      "source": [
        "def scoreCandidate(text):\n",
        "  #extract words\n",
        "  tokens = nltk.tokenize.word_tokenize(text)\n",
        "\n",
        "  #generate bigrams and trigrams (e.g. object oriented programming)\n",
        "  ngrams = list(map(' '.join, nltk.everygrams(tokens, 2, 3)))\n",
        "\n",
        "  skillScore = 0\n",
        "  cmpScore = 0\n",
        "  educationLevel = -1\n",
        "  educationScore = 0\n",
        "\n",
        "  #enumerate tokens and look for degrees/skills/companies\n",
        "  for token in tokens:\n",
        "    if token not in stopwords.words('english'):\n",
        "      if token in SKILLS:\n",
        "        skillScore += 1\n",
        "      if token in COMPANIES:\n",
        "\n",
        "        cmpScore += 1\n",
        "      if token in EDUCATION:\n",
        "        if EDUCATION[token] > educationLevel:\n",
        "          educationLevel = EDUCATION[token]     \n",
        "\n",
        "  #enumerate ngrams and look for companies/skills\n",
        "  for ngram in ngrams:\n",
        "    if ngram in SKILLS:\n",
        "      skillScore += 1\n",
        "    if ngram in COMPANIES:\n",
        "      cmpScore += 1\n",
        "\n",
        "  for univers in UNIVERSITIES:\n",
        "    if re.search(univers, text):\n",
        "      educationScore += 1\n",
        "    \n",
        "\n",
        "  return pd.Series({'skills_score': skillScore, 'education_level': educationLevel, 'education_score': educationScore, 'company_score': cmpScore})"
      ],
      "metadata": {
        "id": "keUVahLD9dFf"
      },
      "execution_count": 15,
      "outputs": []
    },
    {
      "cell_type": "code",
      "source": [
        "df = df.merge(df.text.apply(lambda x: scoreCandidate(x)), left_index=True, right_index=True)"
      ],
      "metadata": {
        "id": "DZyQRTgXButQ"
      },
      "execution_count": 16,
      "outputs": []
    },
    {
      "cell_type": "code",
      "source": [
        "df.head()"
      ],
      "metadata": {
        "colab": {
          "base_uri": "https://localhost:8080/",
          "height": 206
        },
        "id": "O6Otmja3E5yd",
        "outputId": "4cdd6c5c-cc4f-4a6b-e4ba-9e89abf0dd30"
      },
      "execution_count": 17,
      "outputs": [
        {
          "output_type": "execute_result",
          "data": {
            "text/html": [
              "\n",
              "  <div id=\"df-3c0cdcf8-692d-4b5e-9b99-55d696c42fc9\">\n",
              "    <div class=\"colab-df-container\">\n",
              "      <div>\n",
              "<style scoped>\n",
              "    .dataframe tbody tr th:only-of-type {\n",
              "        vertical-align: middle;\n",
              "    }\n",
              "\n",
              "    .dataframe tbody tr th {\n",
              "        vertical-align: top;\n",
              "    }\n",
              "\n",
              "    .dataframe thead th {\n",
              "        text-align: right;\n",
              "    }\n",
              "</style>\n",
              "<table border=\"1\" class=\"dataframe\">\n",
              "  <thead>\n",
              "    <tr style=\"text-align: right;\">\n",
              "      <th></th>\n",
              "      <th>text</th>\n",
              "      <th>label</th>\n",
              "      <th>skills_score</th>\n",
              "      <th>education_level</th>\n",
              "      <th>education_score</th>\n",
              "      <th>company_score</th>\n",
              "    </tr>\n",
              "  </thead>\n",
              "  <tbody>\n",
              "    <tr>\n",
              "      <th>0</th>\n",
              "      <td>pooja kudale e-mail mobile +91-9036714938 to s...</td>\n",
              "      <td>Bad</td>\n",
              "      <td>0</td>\n",
              "      <td>-1</td>\n",
              "      <td>0</td>\n",
              "      <td>0</td>\n",
              "    </tr>\n",
              "    <tr>\n",
              "      <th>1</th>\n",
              "      <td>athira p junior software engineer e-mail phone...</td>\n",
              "      <td>Bad</td>\n",
              "      <td>3</td>\n",
              "      <td>0</td>\n",
              "      <td>0</td>\n",
              "      <td>0</td>\n",
              "    </tr>\n",
              "    <tr>\n",
              "      <th>2</th>\n",
              "      <td>aabid jamil education bachelors chandigarh eng...</td>\n",
              "      <td>Bad</td>\n",
              "      <td>8</td>\n",
              "      <td>1</td>\n",
              "      <td>0</td>\n",
              "      <td>0</td>\n",
              "    </tr>\n",
              "    <tr>\n",
              "      <th>3</th>\n",
              "      <td>aakash khurange jr. about me my name is aakash...</td>\n",
              "      <td>Bad</td>\n",
              "      <td>8</td>\n",
              "      <td>0</td>\n",
              "      <td>0</td>\n",
              "      <td>0</td>\n",
              "    </tr>\n",
              "    <tr>\n",
              "      <th>4</th>\n",
              "      <td>abhishek kumar mishra b.tech computer science ...</td>\n",
              "      <td>Bad</td>\n",
              "      <td>0</td>\n",
              "      <td>1</td>\n",
              "      <td>0</td>\n",
              "      <td>0</td>\n",
              "    </tr>\n",
              "  </tbody>\n",
              "</table>\n",
              "</div>\n",
              "      <button class=\"colab-df-convert\" onclick=\"convertToInteractive('df-3c0cdcf8-692d-4b5e-9b99-55d696c42fc9')\"\n",
              "              title=\"Convert this dataframe to an interactive table.\"\n",
              "              style=\"display:none;\">\n",
              "        \n",
              "  <svg xmlns=\"http://www.w3.org/2000/svg\" height=\"24px\"viewBox=\"0 0 24 24\"\n",
              "       width=\"24px\">\n",
              "    <path d=\"M0 0h24v24H0V0z\" fill=\"none\"/>\n",
              "    <path d=\"M18.56 5.44l.94 2.06.94-2.06 2.06-.94-2.06-.94-.94-2.06-.94 2.06-2.06.94zm-11 1L8.5 8.5l.94-2.06 2.06-.94-2.06-.94L8.5 2.5l-.94 2.06-2.06.94zm10 10l.94 2.06.94-2.06 2.06-.94-2.06-.94-.94-2.06-.94 2.06-2.06.94z\"/><path d=\"M17.41 7.96l-1.37-1.37c-.4-.4-.92-.59-1.43-.59-.52 0-1.04.2-1.43.59L10.3 9.45l-7.72 7.72c-.78.78-.78 2.05 0 2.83L4 21.41c.39.39.9.59 1.41.59.51 0 1.02-.2 1.41-.59l7.78-7.78 2.81-2.81c.8-.78.8-2.07 0-2.86zM5.41 20L4 18.59l7.72-7.72 1.47 1.35L5.41 20z\"/>\n",
              "  </svg>\n",
              "      </button>\n",
              "      \n",
              "  <style>\n",
              "    .colab-df-container {\n",
              "      display:flex;\n",
              "      flex-wrap:wrap;\n",
              "      gap: 12px;\n",
              "    }\n",
              "\n",
              "    .colab-df-convert {\n",
              "      background-color: #E8F0FE;\n",
              "      border: none;\n",
              "      border-radius: 50%;\n",
              "      cursor: pointer;\n",
              "      display: none;\n",
              "      fill: #1967D2;\n",
              "      height: 32px;\n",
              "      padding: 0 0 0 0;\n",
              "      width: 32px;\n",
              "    }\n",
              "\n",
              "    .colab-df-convert:hover {\n",
              "      background-color: #E2EBFA;\n",
              "      box-shadow: 0px 1px 2px rgba(60, 64, 67, 0.3), 0px 1px 3px 1px rgba(60, 64, 67, 0.15);\n",
              "      fill: #174EA6;\n",
              "    }\n",
              "\n",
              "    [theme=dark] .colab-df-convert {\n",
              "      background-color: #3B4455;\n",
              "      fill: #D2E3FC;\n",
              "    }\n",
              "\n",
              "    [theme=dark] .colab-df-convert:hover {\n",
              "      background-color: #434B5C;\n",
              "      box-shadow: 0px 1px 3px 1px rgba(0, 0, 0, 0.15);\n",
              "      filter: drop-shadow(0px 1px 2px rgba(0, 0, 0, 0.3));\n",
              "      fill: #FFFFFF;\n",
              "    }\n",
              "  </style>\n",
              "\n",
              "      <script>\n",
              "        const buttonEl =\n",
              "          document.querySelector('#df-3c0cdcf8-692d-4b5e-9b99-55d696c42fc9 button.colab-df-convert');\n",
              "        buttonEl.style.display =\n",
              "          google.colab.kernel.accessAllowed ? 'block' : 'none';\n",
              "\n",
              "        async function convertToInteractive(key) {\n",
              "          const element = document.querySelector('#df-3c0cdcf8-692d-4b5e-9b99-55d696c42fc9');\n",
              "          const dataTable =\n",
              "            await google.colab.kernel.invokeFunction('convertToInteractive',\n",
              "                                                     [key], {});\n",
              "          if (!dataTable) return;\n",
              "\n",
              "          const docLinkHtml = 'Like what you see? Visit the ' +\n",
              "            '<a target=\"_blank\" href=https://colab.research.google.com/notebooks/data_table.ipynb>data table notebook</a>'\n",
              "            + ' to learn more about interactive tables.';\n",
              "          element.innerHTML = '';\n",
              "          dataTable['output_type'] = 'display_data';\n",
              "          await google.colab.output.renderOutput(dataTable, element);\n",
              "          const docLink = document.createElement('div');\n",
              "          docLink.innerHTML = docLinkHtml;\n",
              "          element.appendChild(docLink);\n",
              "        }\n",
              "      </script>\n",
              "    </div>\n",
              "  </div>\n",
              "  "
            ],
            "text/plain": [
              "                                                text  ... company_score\n",
              "0  pooja kudale e-mail mobile +91-9036714938 to s...  ...             0\n",
              "1  athira p junior software engineer e-mail phone...  ...             0\n",
              "2  aabid jamil education bachelors chandigarh eng...  ...             0\n",
              "3  aakash khurange jr. about me my name is aakash...  ...             0\n",
              "4  abhishek kumar mishra b.tech computer science ...  ...             0\n",
              "\n",
              "[5 rows x 6 columns]"
            ]
          },
          "metadata": {},
          "execution_count": 17
        }
      ]
    },
    {
      "cell_type": "code",
      "source": [
        "df.describe()"
      ],
      "metadata": {
        "colab": {
          "base_uri": "https://localhost:8080/",
          "height": 300
        },
        "id": "8yHSTXL_GOcX",
        "outputId": "e0b211d3-bfb1-411f-dba2-2d9aecfedaa2"
      },
      "execution_count": 18,
      "outputs": [
        {
          "output_type": "execute_result",
          "data": {
            "text/html": [
              "\n",
              "  <div id=\"df-1be2db4a-12a6-4036-9878-f418fb049b66\">\n",
              "    <div class=\"colab-df-container\">\n",
              "      <div>\n",
              "<style scoped>\n",
              "    .dataframe tbody tr th:only-of-type {\n",
              "        vertical-align: middle;\n",
              "    }\n",
              "\n",
              "    .dataframe tbody tr th {\n",
              "        vertical-align: top;\n",
              "    }\n",
              "\n",
              "    .dataframe thead th {\n",
              "        text-align: right;\n",
              "    }\n",
              "</style>\n",
              "<table border=\"1\" class=\"dataframe\">\n",
              "  <thead>\n",
              "    <tr style=\"text-align: right;\">\n",
              "      <th></th>\n",
              "      <th>skills_score</th>\n",
              "      <th>education_level</th>\n",
              "      <th>education_score</th>\n",
              "      <th>company_score</th>\n",
              "    </tr>\n",
              "  </thead>\n",
              "  <tbody>\n",
              "    <tr>\n",
              "      <th>count</th>\n",
              "      <td>326.000000</td>\n",
              "      <td>326.000000</td>\n",
              "      <td>326.000000</td>\n",
              "      <td>326.000000</td>\n",
              "    </tr>\n",
              "    <tr>\n",
              "      <th>mean</th>\n",
              "      <td>4.932515</td>\n",
              "      <td>0.226994</td>\n",
              "      <td>0.027607</td>\n",
              "      <td>0.233129</td>\n",
              "    </tr>\n",
              "    <tr>\n",
              "      <th>std</th>\n",
              "      <td>5.124456</td>\n",
              "      <td>1.083019</td>\n",
              "      <td>0.164097</td>\n",
              "      <td>0.680005</td>\n",
              "    </tr>\n",
              "    <tr>\n",
              "      <th>min</th>\n",
              "      <td>0.000000</td>\n",
              "      <td>-1.000000</td>\n",
              "      <td>0.000000</td>\n",
              "      <td>0.000000</td>\n",
              "    </tr>\n",
              "    <tr>\n",
              "      <th>25%</th>\n",
              "      <td>2.000000</td>\n",
              "      <td>-1.000000</td>\n",
              "      <td>0.000000</td>\n",
              "      <td>0.000000</td>\n",
              "    </tr>\n",
              "    <tr>\n",
              "      <th>50%</th>\n",
              "      <td>4.000000</td>\n",
              "      <td>0.000000</td>\n",
              "      <td>0.000000</td>\n",
              "      <td>0.000000</td>\n",
              "    </tr>\n",
              "    <tr>\n",
              "      <th>75%</th>\n",
              "      <td>7.000000</td>\n",
              "      <td>1.000000</td>\n",
              "      <td>0.000000</td>\n",
              "      <td>0.000000</td>\n",
              "    </tr>\n",
              "    <tr>\n",
              "      <th>max</th>\n",
              "      <td>36.000000</td>\n",
              "      <td>2.000000</td>\n",
              "      <td>1.000000</td>\n",
              "      <td>6.000000</td>\n",
              "    </tr>\n",
              "  </tbody>\n",
              "</table>\n",
              "</div>\n",
              "      <button class=\"colab-df-convert\" onclick=\"convertToInteractive('df-1be2db4a-12a6-4036-9878-f418fb049b66')\"\n",
              "              title=\"Convert this dataframe to an interactive table.\"\n",
              "              style=\"display:none;\">\n",
              "        \n",
              "  <svg xmlns=\"http://www.w3.org/2000/svg\" height=\"24px\"viewBox=\"0 0 24 24\"\n",
              "       width=\"24px\">\n",
              "    <path d=\"M0 0h24v24H0V0z\" fill=\"none\"/>\n",
              "    <path d=\"M18.56 5.44l.94 2.06.94-2.06 2.06-.94-2.06-.94-.94-2.06-.94 2.06-2.06.94zm-11 1L8.5 8.5l.94-2.06 2.06-.94-2.06-.94L8.5 2.5l-.94 2.06-2.06.94zm10 10l.94 2.06.94-2.06 2.06-.94-2.06-.94-.94-2.06-.94 2.06-2.06.94z\"/><path d=\"M17.41 7.96l-1.37-1.37c-.4-.4-.92-.59-1.43-.59-.52 0-1.04.2-1.43.59L10.3 9.45l-7.72 7.72c-.78.78-.78 2.05 0 2.83L4 21.41c.39.39.9.59 1.41.59.51 0 1.02-.2 1.41-.59l7.78-7.78 2.81-2.81c.8-.78.8-2.07 0-2.86zM5.41 20L4 18.59l7.72-7.72 1.47 1.35L5.41 20z\"/>\n",
              "  </svg>\n",
              "      </button>\n",
              "      \n",
              "  <style>\n",
              "    .colab-df-container {\n",
              "      display:flex;\n",
              "      flex-wrap:wrap;\n",
              "      gap: 12px;\n",
              "    }\n",
              "\n",
              "    .colab-df-convert {\n",
              "      background-color: #E8F0FE;\n",
              "      border: none;\n",
              "      border-radius: 50%;\n",
              "      cursor: pointer;\n",
              "      display: none;\n",
              "      fill: #1967D2;\n",
              "      height: 32px;\n",
              "      padding: 0 0 0 0;\n",
              "      width: 32px;\n",
              "    }\n",
              "\n",
              "    .colab-df-convert:hover {\n",
              "      background-color: #E2EBFA;\n",
              "      box-shadow: 0px 1px 2px rgba(60, 64, 67, 0.3), 0px 1px 3px 1px rgba(60, 64, 67, 0.15);\n",
              "      fill: #174EA6;\n",
              "    }\n",
              "\n",
              "    [theme=dark] .colab-df-convert {\n",
              "      background-color: #3B4455;\n",
              "      fill: #D2E3FC;\n",
              "    }\n",
              "\n",
              "    [theme=dark] .colab-df-convert:hover {\n",
              "      background-color: #434B5C;\n",
              "      box-shadow: 0px 1px 3px 1px rgba(0, 0, 0, 0.15);\n",
              "      filter: drop-shadow(0px 1px 2px rgba(0, 0, 0, 0.3));\n",
              "      fill: #FFFFFF;\n",
              "    }\n",
              "  </style>\n",
              "\n",
              "      <script>\n",
              "        const buttonEl =\n",
              "          document.querySelector('#df-1be2db4a-12a6-4036-9878-f418fb049b66 button.colab-df-convert');\n",
              "        buttonEl.style.display =\n",
              "          google.colab.kernel.accessAllowed ? 'block' : 'none';\n",
              "\n",
              "        async function convertToInteractive(key) {\n",
              "          const element = document.querySelector('#df-1be2db4a-12a6-4036-9878-f418fb049b66');\n",
              "          const dataTable =\n",
              "            await google.colab.kernel.invokeFunction('convertToInteractive',\n",
              "                                                     [key], {});\n",
              "          if (!dataTable) return;\n",
              "\n",
              "          const docLinkHtml = 'Like what you see? Visit the ' +\n",
              "            '<a target=\"_blank\" href=https://colab.research.google.com/notebooks/data_table.ipynb>data table notebook</a>'\n",
              "            + ' to learn more about interactive tables.';\n",
              "          element.innerHTML = '';\n",
              "          dataTable['output_type'] = 'display_data';\n",
              "          await google.colab.output.renderOutput(dataTable, element);\n",
              "          const docLink = document.createElement('div');\n",
              "          docLink.innerHTML = docLinkHtml;\n",
              "          element.appendChild(docLink);\n",
              "        }\n",
              "      </script>\n",
              "    </div>\n",
              "  </div>\n",
              "  "
            ],
            "text/plain": [
              "       skills_score  education_level  education_score  company_score\n",
              "count    326.000000       326.000000       326.000000     326.000000\n",
              "mean       4.932515         0.226994         0.027607       0.233129\n",
              "std        5.124456         1.083019         0.164097       0.680005\n",
              "min        0.000000        -1.000000         0.000000       0.000000\n",
              "25%        2.000000        -1.000000         0.000000       0.000000\n",
              "50%        4.000000         0.000000         0.000000       0.000000\n",
              "75%        7.000000         1.000000         0.000000       0.000000\n",
              "max       36.000000         2.000000         1.000000       6.000000"
            ]
          },
          "metadata": {},
          "execution_count": 18
        }
      ]
    },
    {
      "cell_type": "code",
      "source": [
        "#label encoding\n",
        "label_dict = {'Bad': 1, 'Good': 2, 'Maybe': 3}\n",
        "\n",
        "df['label'] = df.label.map(label_dict)"
      ],
      "metadata": {
        "id": "-nwkVSp5dMs_"
      },
      "execution_count": 19,
      "outputs": []
    },
    {
      "cell_type": "code",
      "source": [
        "Y = df['label']\n",
        "\n",
        "#drop raw text column and label\n",
        "X = df.drop('label', 1).drop('text', 1)"
      ],
      "metadata": {
        "colab": {
          "base_uri": "https://localhost:8080/"
        },
        "id": "DE3JT-Oycg4S",
        "outputId": "f77d8dd9-3978-4859-a5ee-de378ab8da42"
      },
      "execution_count": 20,
      "outputs": [
        {
          "output_type": "stream",
          "name": "stderr",
          "text": [
            "/usr/local/lib/python3.7/dist-packages/ipykernel_launcher.py:4: FutureWarning: In a future version of pandas all arguments of DataFrame.drop except for the argument 'labels' will be keyword-only\n",
            "  after removing the cwd from sys.path.\n"
          ]
        }
      ]
    },
    {
      "cell_type": "code",
      "source": [
        "# Transform data using minmaxScaler\n",
        "scaler = MinMaxScaler(feature_range=(0, 1)).fit(X)\n",
        "rescaledX = scaler.transform(X)\n",
        "# summarise transformed data\n",
        "np.set_printoptions(precision=3)\n",
        "print(rescaledX[0:5,:])"
      ],
      "metadata": {
        "colab": {
          "base_uri": "https://localhost:8080/"
        },
        "id": "tb1t6taecb_W",
        "outputId": "a1b5f6bb-c1a0-49d8-f85d-f8659a328f62"
      },
      "execution_count": 21,
      "outputs": [
        {
          "output_type": "stream",
          "name": "stdout",
          "text": [
            "[[0.    0.    0.    0.   ]\n",
            " [0.083 0.333 0.    0.   ]\n",
            " [0.222 0.667 0.    0.   ]\n",
            " [0.222 0.333 0.    0.   ]\n",
            " [0.    0.667 0.    0.   ]]\n"
          ]
        }
      ]
    },
    {
      "cell_type": "code",
      "source": [
        "#oversampling using SMOTE\n",
        "oversample = SMOTE()\n",
        "smoteX, smoteY = oversample.fit_resample(rescaledX, Y)"
      ],
      "metadata": {
        "id": "NNPhUSIOhSyt"
      },
      "execution_count": 22,
      "outputs": []
    },
    {
      "cell_type": "code",
      "source": [
        "#check that additional \n",
        "print(len(X))\n",
        "print(len(smoteX))"
      ],
      "metadata": {
        "colab": {
          "base_uri": "https://localhost:8080/"
        },
        "id": "WwY83BQphu2s",
        "outputId": "195246be-4dc2-4799-b0e3-3683820cc9ac"
      },
      "execution_count": 23,
      "outputs": [
        {
          "output_type": "stream",
          "name": "stdout",
          "text": [
            "326\n",
            "561\n"
          ]
        }
      ]
    },
    {
      "cell_type": "markdown",
      "source": [
        "## Algorithm selection \n",
        "\n",
        "Here, a plethora of Machine Learning algorithms are run and evaluated on the following metrics:\n",
        "\n",
        "* accuracy\n",
        "* f1-score"
      ],
      "metadata": {
        "id": "TBdtR7jnar_j"
      }
    },
    {
      "cell_type": "markdown",
      "source": [
        "We first tried selecting our model with the oversampled data, however, algorithm performance is worse"
      ],
      "metadata": {
        "id": "0mq094_njmsG"
      }
    },
    {
      "cell_type": "code",
      "source": [
        "# Create a list, with one item per algorithm. Each item has a name, and a classifier object.\n",
        "models = []\n",
        "models.append(('LR',  LogisticRegression()))\n",
        "models.append(('LDA', LinearDiscriminantAnalysis()))\n",
        "models.append(('kNN', KNeighborsClassifier()))\n",
        "models.append(('DT',  DecisionTreeClassifier()))\n",
        "models.append(('NB',  GaussianNB()))\n",
        "models.append(('RF', RandomForestClassifier()))\n",
        "models.append(('SVM', SVC()))\n",
        "models.append(('Bagging LR',BaggingClassifier(base_estimator=LogisticRegression(), n_estimators=100)))\n",
        "models.append(('Bagging LDA',BaggingClassifier(base_estimator=LinearDiscriminantAnalysis(), n_estimators=100)))\n",
        "models.append(('Bagging kNN',BaggingClassifier(base_estimator=KNeighborsClassifier(), n_estimators=100)))\n",
        "models.append(('Bagging DT',BaggingClassifier(base_estimator=DecisionTreeClassifier(), n_estimators=100)))\n",
        "models.append(('Bagging NB',BaggingClassifier(base_estimator=GaussianNB(), n_estimators=100)))\n",
        "models.append(('Bagging SVM',BaggingClassifier(base_estimator=SVC(), n_estimators=100)))\n",
        "models.append(('Adaboost',AdaBoostClassifier(n_estimators=100)))\n",
        "models.append(('XGBoost',XGBClassifier()))\n",
        "\n",
        "# The scoring function to use\n",
        "scoring = {'accuracy' : 'accuracy',\n",
        "           'f1': make_scorer(f1_score, average='weighted')}        \n",
        "\n",
        "# We are going to evaluate all classifiers, and store results in two lists. We plot these list. \n",
        "# The process is done recursively for each score:\n",
        "\n",
        "for cur_score in scoring:\n",
        "    results = []\n",
        "    names = []\n",
        "    kfold = KFold(n_splits=10, random_state=7, shuffle=True)\n",
        "    print(cur_score, ' : \\n')\n",
        "    for name, model in models:        \n",
        "        cv_results = cross_val_score(model, smoteX, smoteY, cv=kfold, scoring=scoring[cur_score])\n",
        "        results.append(cv_results) \n",
        "        names.append(name)\n",
        "        print(\"%03s: %f (+/- %f)\" % (name, cv_results.mean(), cv_results.std())) \n",
        "        \n",
        "    plt.figure(figsize=(10,5))    \n",
        "    plt.boxplot(results)\n",
        "    plt.xticks(list(range(1,len(names)+1)), names)\n",
        "    plt.show()"
      ],
      "metadata": {
        "colab": {
          "base_uri": "https://localhost:8080/",
          "height": 1000
        },
        "id": "qrYr6ObVGtuK",
        "outputId": "ae7c40d4-3f6f-45f2-aad7-dbaa2ab04282"
      },
      "execution_count": 24,
      "outputs": [
        {
          "output_type": "stream",
          "name": "stdout",
          "text": [
            "accuracy  : \n",
            "\n",
            " LR: 0.433208 (+/- 0.053361)\n",
            "LDA: 0.440351 (+/- 0.038140)\n",
            "kNN: 0.522337 (+/- 0.066718)\n",
            " DT: 0.613127 (+/- 0.039691)\n",
            " NB: 0.395865 (+/- 0.058232)\n",
            " RF: 0.607769 (+/- 0.042074)\n",
            "SVM: 0.501003 (+/- 0.040639)\n",
            "Bagging LR: 0.434994 (+/- 0.053475)\n",
            "Bagging LDA: 0.445708 (+/- 0.051060)\n",
            "Bagging kNN: 0.561560 (+/- 0.068309)\n",
            "Bagging DT: 0.611341 (+/- 0.044812)\n",
            "Bagging NB: 0.394079 (+/- 0.065265)\n",
            "Bagging SVM: 0.502788 (+/- 0.040947)\n",
            "Adaboost: 0.540163 (+/- 0.053469)\n",
            "XGBoost: 0.573935 (+/- 0.046488)\n"
          ]
        },
        {
          "output_type": "display_data",
          "data": {
            "image/png": "[encoded data removed]",
            "text/plain": [
              "<Figure size 720x360 with 1 Axes>"
            ]
          },
          "metadata": {
            "needs_background": "light"
          }
        },
        {
          "output_type": "stream",
          "name": "stdout",
          "text": [
            "f1  : \n",
            "\n",
            " LR: 0.425862 (+/- 0.060590)\n",
            "LDA: 0.439843 (+/- 0.035283)\n",
            "kNN: 0.514894 (+/- 0.066991)\n",
            " DT: 0.608847 (+/- 0.043469)\n",
            " NB: 0.332535 (+/- 0.074842)\n",
            " RF: 0.601867 (+/- 0.055467)\n",
            "SVM: 0.492019 (+/- 0.038544)\n",
            "Bagging LR: 0.429888 (+/- 0.065487)\n",
            "Bagging LDA: 0.450872 (+/- 0.047293)\n",
            "Bagging kNN: 0.553638 (+/- 0.067654)\n",
            "Bagging DT: 0.620344 (+/- 0.042555)\n",
            "Bagging NB: 0.332576 (+/- 0.071772)\n",
            "Bagging SVM: 0.494628 (+/- 0.035754)\n",
            "Adaboost: 0.536009 (+/- 0.054221)\n",
            "XGBoost: 0.568821 (+/- 0.044671)\n"
          ]
        },
        {
          "output_type": "display_data",
          "data": {
            "image/png": "[encoded data removed]",
            "text/plain": [
              "<Figure size 720x360 with 1 Axes>"
            ]
          },
          "metadata": {
            "needs_background": "light"
          }
        }
      ]
    },
    {
      "cell_type": "code",
      "source": [
        "# Create a list, with one item per algorithm. Each item has a name, and a classifier object.\n",
        "models = []\n",
        "models.append(('LR',  LogisticRegression()))\n",
        "models.append(('LDA', LinearDiscriminantAnalysis()))\n",
        "models.append(('kNN', KNeighborsClassifier()))\n",
        "models.append(('DT',  DecisionTreeClassifier()))\n",
        "models.append(('NB',  GaussianNB()))\n",
        "models.append(('RF', RandomForestClassifier()))\n",
        "models.append(('SVM', SVC()))\n",
        "models.append(('Bagging LR',BaggingClassifier(base_estimator=LogisticRegression(), n_estimators=100)))\n",
        "models.append(('Bagging LDA',BaggingClassifier(base_estimator=LinearDiscriminantAnalysis(), n_estimators=100)))\n",
        "models.append(('Bagging kNN',BaggingClassifier(base_estimator=KNeighborsClassifier(), n_estimators=100)))\n",
        "models.append(('Bagging DT',BaggingClassifier(base_estimator=DecisionTreeClassifier(), n_estimators=100)))\n",
        "models.append(('Bagging NB',BaggingClassifier(base_estimator=GaussianNB(), n_estimators=100)))\n",
        "models.append(('Bagging SVM',BaggingClassifier(base_estimator=SVC(), n_estimators=100)))\n",
        "models.append(('Adaboost',AdaBoostClassifier(n_estimators=100)))\n",
        "models.append(('XGBoost',XGBClassifier()))\n",
        "\n",
        "# The scoring function to use\n",
        "scoring = {'accuracy' : 'accuracy',\n",
        "           'f1': make_scorer(f1_score, average='weighted')}        \n",
        "\n",
        "# We are going to evaluate all classifiers, and store results in two lists. We plot these list. \n",
        "# The process is done recursively for each score:\n",
        "\n",
        "for cur_score in scoring:\n",
        "    results = []\n",
        "    names = []\n",
        "    kfold = KFold(n_splits=10, random_state=7, shuffle=True)\n",
        "    print(cur_score, ' : \\n')\n",
        "    for name, model in models:        \n",
        "        cv_results = cross_val_score(model, rescaledX, Y, cv=kfold, scoring=scoring[cur_score])\n",
        "        results.append(cv_results) \n",
        "        names.append(name)\n",
        "        print(\"%03s: %f (+/- %f)\" % (name, cv_results.mean(), cv_results.std())) \n",
        "        \n",
        "    plt.figure(figsize=(10,5))    \n",
        "    plt.boxplot(results)\n",
        "    plt.xticks(list(range(1,len(names)+1)), names)\n",
        "    plt.show()"
      ],
      "metadata": {
        "colab": {
          "base_uri": "https://localhost:8080/",
          "height": 1000
        },
        "id": "JH9LNjraj1gk",
        "outputId": "5dc212c9-0af2-4e2d-e1cb-3593ae5eeab9"
      },
      "execution_count": 25,
      "outputs": [
        {
          "output_type": "stream",
          "name": "stdout",
          "text": [
            "accuracy  : \n",
            "\n",
            " LR: 0.579640 (+/- 0.068360)\n",
            "LDA: 0.576420 (+/- 0.080743)\n",
            "kNN: 0.573295 (+/- 0.042458)\n",
            " DT: 0.536648 (+/- 0.033806)\n",
            " NB: 0.530871 (+/- 0.115148)\n",
            " RF: 0.530587 (+/- 0.039522)\n",
            "SVM: 0.585701 (+/- 0.067744)\n",
            "Bagging LR: 0.582670 (+/- 0.063226)\n",
            "Bagging LDA: 0.579640 (+/- 0.075551)\n",
            "Bagging kNN: 0.536174 (+/- 0.053894)\n",
            "Bagging DT: 0.512121 (+/- 0.060071)\n",
            "Bagging NB: 0.503125 (+/- 0.104575)\n",
            "Bagging SVM: 0.591761 (+/- 0.063755)\n",
            "Adaboost: 0.570360 (+/- 0.073864)\n",
            "XGBoost: 0.555208 (+/- 0.060055)\n"
          ]
        },
        {
          "output_type": "display_data",
          "data": {
            "image/png": "[encoded data removed]",
            "text/plain": [
              "<Figure size 720x360 with 1 Axes>"
            ]
          },
          "metadata": {
            "needs_background": "light"
          }
        },
        {
          "output_type": "stream",
          "name": "stdout",
          "text": [
            "f1  : \n",
            "\n",
            " LR: 0.458580 (+/- 0.084813)\n",
            "LDA: 0.493521 (+/- 0.093368)\n",
            "kNN: 0.500516 (+/- 0.068462)\n",
            " DT: 0.496199 (+/- 0.045673)\n",
            " NB: 0.458588 (+/- 0.137798)\n",
            " RF: 0.502731 (+/- 0.055565)\n",
            "SVM: 0.462701 (+/- 0.073276)\n",
            "Bagging LR: 0.460384 (+/- 0.083676)\n",
            "Bagging LDA: 0.501271 (+/- 0.105883)\n",
            "Bagging kNN: 0.466388 (+/- 0.063998)\n",
            "Bagging DT: 0.476707 (+/- 0.046387)\n",
            "Bagging NB: 0.355676 (+/- 0.119638)\n",
            "Bagging SVM: 0.469967 (+/- 0.067411)\n",
            "Adaboost: 0.522365 (+/- 0.094036)\n",
            "XGBoost: 0.496901 (+/- 0.074682)\n"
          ]
        },
        {
          "output_type": "display_data",
          "data": {
            "image/png": "[encoded data removed]",
            "text/plain": [
              "<Figure size 720x360 with 1 Axes>"
            ]
          },
          "metadata": {
            "needs_background": "light"
          }
        }
      ]
    },
    {
      "cell_type": "markdown",
      "source": [
        "We choose the following algorithms to train and evaluate:\n",
        "\n",
        "* kNN\n",
        "* Random Forest\n",
        "* SVM"
      ],
      "metadata": {
        "id": "LDNTVzk9EvlO"
      }
    },
    {
      "cell_type": "markdown",
      "source": [
        "## Model Training\n",
        "Apply ensembles and improve performance by hyperparameter optimisation."
      ],
      "metadata": {
        "id": "W-VFkk453fsI"
      }
    },
    {
      "cell_type": "code",
      "source": [
        "# prepare a range of grid search\n",
        "params = {'n_neighbors':[1,2,3,4,5,7,10,12,14,15],\n",
        "         'weights':['uniform','distance'],\n",
        "         'algorithm':['auto','ball_tree','kd_tree','brute'],\n",
        "         'leaf_size':[5,10,15,20,25,30,35,40,45,50],\n",
        "         'p':[1,2,3,4,5,6,7,8,9,10],\n",
        "         'metric':['euclidean','manhattan','minkowski','chebyshev']}\n",
        "\n",
        "\n",
        "\n",
        "# create and fit a kNN model, testing each param,using cv=5 cross validation sets\n",
        "model = KNeighborsClassifier()\n",
        "n_iter_search = 1000\n",
        "grid = RandomizedSearchCV(estimator=model, param_distributions=params, scoring = make_scorer(f1_score, average='weighted'), cv=5, n_iter=n_iter_search)\n",
        "start = time()\n",
        "grid.fit(rescaledX, Y)\n",
        "print(\"RandomizedSearchCV took %.2f seconds for %d candidates\"\n",
        "      \" parameter settings.\" % ((time() - start), n_iter_search))\n",
        "# summarize the results of the grid search\n",
        "print(grid.best_params_) \n",
        "print(grid.best_estimator_)\n",
        "print(\"best score: \",grid.best_score_)"
      ],
      "metadata": {
        "colab": {
          "base_uri": "https://localhost:8080/"
        },
        "id": "esJCaT6jSK-E",
        "outputId": "4e395eba-add5-42a0-e4bb-ef8ec8a7d4c2"
      },
      "execution_count": 26,
      "outputs": [
        {
          "output_type": "stream",
          "name": "stdout",
          "text": [
            "RandomizedSearchCV took 26.36 seconds for 1000 candidates parameter settings.\n",
            "{'weights': 'uniform', 'p': 7, 'n_neighbors': 15, 'metric': 'euclidean', 'leaf_size': 50, 'algorithm': 'brute'}\n",
            "KNeighborsClassifier(algorithm='brute', leaf_size=50, metric='euclidean',\n",
            "                     n_neighbors=15, p=7)\n",
            "best score:  0.5246978894094931\n"
          ]
        }
      ]
    },
    {
      "cell_type": "code",
      "source": [
        "# prepare a range of grid search\n",
        "params = {'n_estimators': [10, 100, 1000],\n",
        "          'max_features': ['sqrt', 'log2'],\n",
        "          'min_samples_split': [2, 5, 10],\n",
        "          'min_samples_leaf': [1, 2, 4],\n",
        "          'bootstrap': [True, False]}\n",
        "\n",
        "\n",
        "\n",
        "# create and fit a RF model, testing each param,using cv=5 cross validation sets\n",
        "model = RandomForestClassifier()\n",
        "n_iter_search = 108\n",
        "grid = RandomizedSearchCV(estimator=model, param_distributions=params, scoring = make_scorer(f1_score, average='weighted'), cv=5, n_iter=n_iter_search)\n",
        "start = time()\n",
        "grid.fit(rescaledX, Y)\n",
        "print(\"RandomizedSearchCV took %.2f seconds for %d candidates\"\n",
        "      \" parameter settings.\" % ((time() - start), n_iter_search))\n",
        "\n",
        "# summarize the results of the grid search\n",
        "print(grid.best_params_) \n",
        "print(grid.best_estimator_)\n",
        "print(\"best score: \",grid.best_score_)"
      ],
      "metadata": {
        "colab": {
          "base_uri": "https://localhost:8080/"
        },
        "id": "DtBZt5oCeKFS",
        "outputId": "7be7db3e-4c57-46b0-9d45-4fb162f86063"
      },
      "execution_count": 27,
      "outputs": [
        {
          "output_type": "stream",
          "name": "stdout",
          "text": [
            "RandomizedSearchCV took 286.17 seconds for 108 candidates parameter settings.\n",
            "{'n_estimators': 10, 'min_samples_split': 2, 'min_samples_leaf': 2, 'max_features': 'sqrt', 'bootstrap': True}\n",
            "RandomForestClassifier(max_features='sqrt', min_samples_leaf=2, n_estimators=10)\n",
            "best score:  0.4956247065917868\n"
          ]
        }
      ]
    },
    {
      "cell_type": "code",
      "source": [
        "params = {'C': [0.1, 1, 10, 100, 1000],\n",
        "          'gamma': [1, 0.1, 0.01, 0.001, 0.0001],\n",
        "          'kernel': ['rbf']}\n",
        "\n",
        "# create and fit a SVM model, testing each param,using cv=5 cross validation sets\n",
        "model = SVC()\n",
        "n_iter_search = 25\n",
        "grid = RandomizedSearchCV(estimator=model, param_distributions=params, scoring = make_scorer(f1_score, average='weighted'), cv=5, n_iter=n_iter_search)\n",
        "start = time()\n",
        "grid.fit(rescaledX, Y)\n",
        "print(\"RandomizedSearchCV took %.2f seconds for %d candidates\"\n",
        "      \" parameter settings.\" % ((time() - start), n_iter_search))\n",
        "\n",
        "# summarize the results of the grid search\n",
        "print(grid.best_params_) \n",
        "print(grid.best_estimator_)\n",
        "print(\"best score: \",grid.best_score_)"
      ],
      "metadata": {
        "colab": {
          "base_uri": "https://localhost:8080/"
        },
        "id": "2ajYuLY0futO",
        "outputId": "2f897895-ab88-4f62-ad3e-3a597e4e0589"
      },
      "execution_count": 28,
      "outputs": [
        {
          "output_type": "stream",
          "name": "stdout",
          "text": [
            "RandomizedSearchCV took 1.62 seconds for 25 candidates parameter settings.\n",
            "{'kernel': 'rbf', 'gamma': 0.01, 'C': 1000}\n",
            "SVC(C=1000, gamma=0.01)\n",
            "best score:  0.48376047777738174\n"
          ]
        }
      ]
    },
    {
      "cell_type": "code",
      "source": [
        "params = {'n_estimators': [2, 3, 4, 5, 6, 7, 8, 9, 10, 11, 12, 20],\n",
        "          'learning_rate': [(0.97 + x / 100) for x in range(0, 8)],\n",
        "          'algorithm': ['SAMME', 'SAMME.R']}\n",
        "\n",
        "# create and fit a SVM model, testing each param,using cv=5 cross validation sets\n",
        "model = AdaBoostClassifier()\n",
        "n_iter_search = 192\n",
        "grid = RandomizedSearchCV(estimator=model, param_distributions=params, scoring = make_scorer(f1_score, average='weighted'), cv=5, n_iter=n_iter_search)\n",
        "start = time()\n",
        "grid.fit(rescaledX, Y)\n",
        "print(\"RandomizedSearchCV took %.2f seconds for %d candidates\"\n",
        "      \" parameter settings.\" % ((time() - start), n_iter_search))\n",
        "\n",
        "# summarize the results of the grid search\n",
        "print(grid.best_params_) \n",
        "print(grid.best_estimator_)\n",
        "print(\"best score: \",grid.best_score_)"
      ],
      "metadata": {
        "colab": {
          "base_uri": "https://localhost:8080/"
        },
        "id": "k5SRwW8LpV4Q",
        "outputId": "59b5ce31-94c2-4e3c-cf00-3dc9cfb8f5dc"
      },
      "execution_count": 29,
      "outputs": [
        {
          "output_type": "stream",
          "name": "stdout",
          "text": [
            "RandomizedSearchCV took 14.86 seconds for 192 candidates parameter settings.\n",
            "{'n_estimators': 8, 'learning_rate': 0.97, 'algorithm': 'SAMME'}\n",
            "AdaBoostClassifier(algorithm='SAMME', learning_rate=0.97, n_estimators=8)\n",
            "best score:  0.509578661621662\n"
          ]
        }
      ]
    },
    {
      "cell_type": "markdown",
      "source": [
        "## Conclusion/Further work\n",
        "\n",
        "In this problem we had to classify a resume as Good/Bad/Maybe. It was a classification problem. The classes was not distributed evenly, especially the Good class was heavily underepresented. <br>\n",
        "\n",
        "* Features were extracted based on personal and expert knowledge <br>\n",
        "\n",
        "* Several algorithms were tested, including ensembles, on different score metrics. <br>\n",
        "\n",
        "* The nature of this problem leads us to use other metrics more appropriate than accuracy, i.e. precision and recall. In this light, the F1 score was calculated. <br>\n",
        "\n",
        "* 3 algorithms were picked and tuned <br>\n",
        "\n",
        "* All algorithms' f1 scores fell in the 50-53 range, which is not very good\n",
        "\n",
        "The main part of this research was to extract meaningfull features from the resume text.\n",
        "\n",
        "Feature extraction was based off personal experience and speaking with recruiters in one organization, who were also annotators, which may have led to mistakes.\n",
        "\n",
        "The task is very suited to machine learning and more techniques have to be explored namely:\n",
        "* Named Entity Recognition (NER) to extract universities/companies\n",
        "* NLP tools to extract specific resume areas (experience, education etc.) \n",
        "* Neural Networks\n",
        "\n",
        "The first 2 will help with feature accuracy and overcome some problems (e.g. \"Oracle Cloud\" will get +1 score for company Oracle)."
      ],
      "metadata": {
        "id": "HveWdp7DDBNc"
      }
    }
  ]
}